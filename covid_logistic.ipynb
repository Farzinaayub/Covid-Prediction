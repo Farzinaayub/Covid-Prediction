{
 "cells": [
  {
   "cell_type": "code",
   "execution_count": 1,
   "metadata": {},
   "outputs": [],
   "source": [
    "import numpy as np\n",
    "import pandas as pd\n",
    "import seaborn as sns\n",
    "import matplotlib.pyplot as plt"
   ]
  },
  {
   "cell_type": "code",
   "execution_count": 2,
   "metadata": {},
   "outputs": [
    {
     "data": {
      "text/html": [
       "<div>\n",
       "<style scoped>\n",
       "    .dataframe tbody tr th:only-of-type {\n",
       "        vertical-align: middle;\n",
       "    }\n",
       "\n",
       "    .dataframe tbody tr th {\n",
       "        vertical-align: top;\n",
       "    }\n",
       "\n",
       "    .dataframe thead th {\n",
       "        text-align: right;\n",
       "    }\n",
       "</style>\n",
       "<table border=\"1\" class=\"dataframe\">\n",
       "  <thead>\n",
       "    <tr style=\"text-align: right;\">\n",
       "      <th></th>\n",
       "      <th>0</th>\n",
       "      <th>1</th>\n",
       "    </tr>\n",
       "  </thead>\n",
       "  <tbody>\n",
       "    <tr>\n",
       "      <th>Name</th>\n",
       "      <td>shivani</td>\n",
       "      <td>isha</td>\n",
       "    </tr>\n",
       "    <tr>\n",
       "      <th>Test Date</th>\n",
       "      <td>24/3/2020</td>\n",
       "      <td>25/3/2020</td>\n",
       "    </tr>\n",
       "    <tr>\n",
       "      <th>Symptoms_1</th>\n",
       "      <td>Cough</td>\n",
       "      <td>Cough</td>\n",
       "    </tr>\n",
       "    <tr>\n",
       "      <th>Symptoms_2</th>\n",
       "      <td>Headache</td>\n",
       "      <td>Headache</td>\n",
       "    </tr>\n",
       "    <tr>\n",
       "      <th>Symptoms_3</th>\n",
       "      <td>Fever</td>\n",
       "      <td>Fever</td>\n",
       "    </tr>\n",
       "    <tr>\n",
       "      <th>Country Name</th>\n",
       "      <td>Iran</td>\n",
       "      <td>Mauritius</td>\n",
       "    </tr>\n",
       "    <tr>\n",
       "      <th>Fever since</th>\n",
       "      <td>4</td>\n",
       "      <td>7</td>\n",
       "    </tr>\n",
       "    <tr>\n",
       "      <th>Headche</th>\n",
       "      <td>2</td>\n",
       "      <td>4</td>\n",
       "    </tr>\n",
       "    <tr>\n",
       "      <th>Covid_yes_no</th>\n",
       "      <td>0</td>\n",
       "      <td>1</td>\n",
       "    </tr>\n",
       "  </tbody>\n",
       "</table>\n",
       "</div>"
      ],
      "text/plain": [
       "                      0          1\n",
       "Name            shivani       isha\n",
       "Test Date     24/3/2020  25/3/2020\n",
       "Symptoms_1        Cough      Cough\n",
       "Symptoms_2     Headache   Headache\n",
       "Symptoms_3        Fever      Fever\n",
       "Country Name       Iran  Mauritius\n",
       "Fever since           4          7\n",
       "Headche               2          4\n",
       "Covid_yes_no          0          1"
      ]
     },
     "execution_count": 2,
     "metadata": {},
     "output_type": "execute_result"
    }
   ],
   "source": [
    "train = pd.read_csv('covid_train.csv')\n",
    "test = pd.read_csv('covid_test.csv')\n",
    "train.head(2).T"
   ]
  },
  {
   "cell_type": "code",
   "execution_count": 3,
   "metadata": {},
   "outputs": [
    {
     "data": {
      "text/plain": [
       "['Fever since ', 'Headche ', 'Covid_yes_no']"
      ]
     },
     "execution_count": 3,
     "metadata": {},
     "output_type": "execute_result"
    }
   ],
   "source": [
    "num_col=[]\n",
    "cat_col = []\n",
    "for i in train.columns:\n",
    "    try:\n",
    "        train[i].astype(float)\n",
    "        num_col.append(i)\n",
    "    except:\n",
    "        cat_col.append(i)\n",
    "num_col"
   ]
  },
  {
   "cell_type": "code",
   "execution_count": 4,
   "metadata": {},
   "outputs": [
    {
     "name": "stdout",
     "output_type": "stream",
     "text": [
      "Name \n",
      "Country Name\n",
      "Test Date\n"
     ]
    }
   ],
   "source": [
    "to_remove=[]\n",
    "for j in [train,test]:\n",
    "    for i in cat_col:\n",
    "        if j[i].nunique() > 5 and i in cat_col:\n",
    "            print(i)\n",
    "            cat_col.remove(i)\n",
    "            to_remove.append(i)\n",
    "        else:\n",
    "            pass"
   ]
  },
  {
   "cell_type": "code",
   "execution_count": 5,
   "metadata": {},
   "outputs": [
    {
     "data": {
      "text/plain": [
       "['Name ', 'Country Name', 'Test Date']"
      ]
     },
     "execution_count": 5,
     "metadata": {},
     "output_type": "execute_result"
    }
   ],
   "source": [
    "to_remove"
   ]
  },
  {
   "cell_type": "code",
   "execution_count": 6,
   "metadata": {},
   "outputs": [],
   "source": [
    "train.drop(columns=to_remove,axis=1,inplace=True)\n",
    "test.drop(columns=to_remove,axis=1,inplace=True)"
   ]
  },
  {
   "cell_type": "code",
   "execution_count": 7,
   "metadata": {},
   "outputs": [
    {
     "data": {
      "text/plain": [
       "['Symptoms_1', 'Symptoms_2', 'Symptoms_3']"
      ]
     },
     "execution_count": 7,
     "metadata": {},
     "output_type": "execute_result"
    }
   ],
   "source": [
    "cat_col"
   ]
  },
  {
   "cell_type": "code",
   "execution_count": 8,
   "metadata": {},
   "outputs": [
    {
     "name": "stdout",
     "output_type": "stream",
     "text": [
      "Symptoms_1: ['Cough' 'Headache' nan]\n",
      "Symptoms_2: ['Headache' 'Fever' nan]\n",
      "Symptoms_3: ['Fever' 'Cough']\n",
      "Symptoms_1: ['Headache' 'Cough']\n",
      "Symptoms_2: ['Fever' 'Headache']\n",
      "Symptoms_3: ['Cough' 'Fever']\n"
     ]
    }
   ],
   "source": [
    "for j in [train,test]:\n",
    "    for i in cat_col:\n",
    "        print(i,end=\": \")\n",
    "        print(j[i].unique())"
   ]
  },
  {
   "cell_type": "code",
   "execution_count": 9,
   "metadata": {},
   "outputs": [],
   "source": [
    "for i in [train,test]:\n",
    "    if 'Test Date' in i.columns:\n",
    "        i.drop('Test Date',axis=1,inplace=True)"
   ]
  },
  {
   "cell_type": "code",
   "execution_count": 10,
   "metadata": {},
   "outputs": [],
   "source": [
    "for i in [train,test]:\n",
    "    i['Duration'] = i['Fever since ']+i['Headche ']\n",
    "num_col.append('Duration')"
   ]
  },
  {
   "cell_type": "code",
   "execution_count": 11,
   "metadata": {},
   "outputs": [],
   "source": [
    "for i in [train,test]:\n",
    "    for j in i.columns:\n",
    "        if j in num_col:\n",
    "            mean_val = i[j].mean()\n",
    "            i[j].fillna(mean_val,inplace=True)\n",
    "        else:\n",
    "            mode_val = i[j].mode()[0]\n",
    "            i[j].fillna(mode_val,inplace=True)"
   ]
  },
  {
   "cell_type": "code",
   "execution_count": 12,
   "metadata": {},
   "outputs": [
    {
     "name": "stderr",
     "output_type": "stream",
     "text": [
      "C:\\Users\\farzi\\AppData\\Local\\Temp\\ipykernel_4208\\2014247632.py:1: FutureWarning: The default value of numeric_only in DataFrame.corr is deprecated. In a future version, it will default to False. Select only valid columns or specify the value of numeric_only to silence this warning.\n",
      "  cor_mat = train.corr()\n"
     ]
    },
    {
     "data": {
      "text/plain": [
       "<Axes: >"
      ]
     },
     "execution_count": 12,
     "metadata": {},
     "output_type": "execute_result"
    },
    {
     "data": {
      "image/png": "[encoded data removed]",
      "text/plain": [
       "<Figure size 640x480 with 2 Axes>"
      ]
     },
     "metadata": {},
     "output_type": "display_data"
    }
   ],
   "source": [
    "cor_mat = train.corr()\n",
    "sns.heatmap(cor_mat,annot=True)"
   ]
  },
  {
   "cell_type": "code",
   "execution_count": 13,
   "metadata": {},
   "outputs": [
    {
     "data": {
      "image/png": "[encoded data removed]",
      "text/plain": [
       "<Figure size 640x480 with 1 Axes>"
      ]
     },
     "metadata": {},
     "output_type": "display_data"
    },
    {
     "data": {
      "image/png": "[encoded data removed]",
      "text/plain": [
       "<Figure size 640x480 with 1 Axes>"
      ]
     },
     "metadata": {},
     "output_type": "display_data"
    },
    {
     "data": {
      "image/png": "[encoded data removed]",
      "text/plain": [
       "<Figure size 640x480 with 1 Axes>"
      ]
     },
     "metadata": {},
     "output_type": "display_data"
    },
    {
     "data": {
      "image/png": "[encoded data removed]",
      "text/plain": [
       "<Figure size 640x480 with 1 Axes>"
      ]
     },
     "metadata": {},
     "output_type": "display_data"
    }
   ],
   "source": [
    "for i in num_col:\n",
    "    sns.boxplot(train,x=train[i])\n",
    "    plt.show()"
   ]
  },
  {
   "cell_type": "code",
   "execution_count": 14,
   "metadata": {},
   "outputs": [],
   "source": [
    "from sklearn.preprocessing import StandardScaler,LabelEncoder\n",
    "from sklearn.linear_model import LogisticRegression\n",
    "from sklearn.metrics import classification_report,confusion_matrix"
   ]
  },
  {
   "cell_type": "code",
   "execution_count": 15,
   "metadata": {},
   "outputs": [],
   "source": [
    "encoder = LabelEncoder()\n",
    "scaler = StandardScaler()\n",
    "num_col.remove('Covid_yes_no')\n",
    "for i in [train,test]:\n",
    "    i[cat_col] = i[cat_col].apply(encoder.fit_transform)\n",
    "    i[num_col] = scaler.fit_transform(i[num_col])\n"
   ]
  },
  {
   "cell_type": "code",
   "execution_count": 16,
   "metadata": {},
   "outputs": [],
   "source": [
    "x_train = train.drop('Covid_yes_no',axis=1,inplace=False)\n",
    "y_train = train['Covid_yes_no']"
   ]
  },
  {
   "cell_type": "code",
   "execution_count": 17,
   "metadata": {},
   "outputs": [],
   "source": [
    "x_test = test.drop('Covid_yes_no',axis=1,inplace=False)\n",
    "y_test = test['Covid_yes_no']"
   ]
  },
  {
   "cell_type": "code",
   "execution_count": 18,
   "metadata": {},
   "outputs": [],
   "source": [
    "model=LogisticRegression()\n",
    "model.fit(x_train,y_train)\n",
    "y_pred = model.predict(x_test)"
   ]
  },
  {
   "cell_type": "code",
   "execution_count": 19,
   "metadata": {},
   "outputs": [
    {
     "data": {
      "text/plain": [
       "array([[28,  1],\n",
       "       [24,  1]], dtype=int64)"
      ]
     },
     "execution_count": 19,
     "metadata": {},
     "output_type": "execute_result"
    }
   ],
   "source": [
    "confusion_matrix = confusion_matrix(y_test,y_pred)\n",
    "confusion_matrix"
   ]
  },
  {
   "cell_type": "code",
   "execution_count": 20,
   "metadata": {},
   "outputs": [
    {
     "name": "stdout",
     "output_type": "stream",
     "text": [
      "              precision    recall  f1-score   support\n",
      "\n",
      "           0       0.54      0.97      0.69        29\n",
      "           1       0.50      0.04      0.07        25\n",
      "\n",
      "    accuracy                           0.54        54\n",
      "   macro avg       0.52      0.50      0.38        54\n",
      "weighted avg       0.52      0.54      0.41        54\n",
      "\n"
     ]
    }
   ],
   "source": [
    "classification_report = classification_report(y_test,y_pred)\n",
    "print(classification_report)"
   ]
  },
  {
   "cell_type": "code",
   "execution_count": 21,
   "metadata": {},
   "outputs": [
    {
     "data": {
      "text/html": [
       "<div>\n",
       "<style scoped>\n",
       "    .dataframe tbody tr th:only-of-type {\n",
       "        vertical-align: middle;\n",
       "    }\n",
       "\n",
       "    .dataframe tbody tr th {\n",
       "        vertical-align: top;\n",
       "    }\n",
       "\n",
       "    .dataframe thead th {\n",
       "        text-align: right;\n",
       "    }\n",
       "</style>\n",
       "<table border=\"1\" class=\"dataframe\">\n",
       "  <thead>\n",
       "    <tr style=\"text-align: right;\">\n",
       "      <th></th>\n",
       "      <th>Symptoms_1</th>\n",
       "      <th>Symptoms_2</th>\n",
       "      <th>Symptoms_3</th>\n",
       "      <th>Fever since</th>\n",
       "      <th>Headche</th>\n",
       "      <th>Covid_yes_no</th>\n",
       "      <th>Duration</th>\n",
       "    </tr>\n",
       "  </thead>\n",
       "  <tbody>\n",
       "    <tr>\n",
       "      <th>0</th>\n",
       "      <td>0</td>\n",
       "      <td>1</td>\n",
       "      <td>1</td>\n",
       "      <td>-1.444698</td>\n",
       "      <td>-1.323534</td>\n",
       "      <td>0</td>\n",
       "      <td>-1.950058</td>\n",
       "    </tr>\n",
       "    <tr>\n",
       "      <th>1</th>\n",
       "      <td>0</td>\n",
       "      <td>1</td>\n",
       "      <td>1</td>\n",
       "      <td>0.649254</td>\n",
       "      <td>0.479434</td>\n",
       "      <td>1</td>\n",
       "      <td>0.805828</td>\n",
       "    </tr>\n",
       "    <tr>\n",
       "      <th>2</th>\n",
       "      <td>0</td>\n",
       "      <td>1</td>\n",
       "      <td>1</td>\n",
       "      <td>-0.048730</td>\n",
       "      <td>0.479434</td>\n",
       "      <td>1</td>\n",
       "      <td>0.254651</td>\n",
       "    </tr>\n",
       "    <tr>\n",
       "      <th>3</th>\n",
       "      <td>0</td>\n",
       "      <td>1</td>\n",
       "      <td>1</td>\n",
       "      <td>-0.746714</td>\n",
       "      <td>-1.323534</td>\n",
       "      <td>0</td>\n",
       "      <td>-1.398881</td>\n",
       "    </tr>\n",
       "    <tr>\n",
       "      <th>4</th>\n",
       "      <td>0</td>\n",
       "      <td>1</td>\n",
       "      <td>1</td>\n",
       "      <td>-0.048730</td>\n",
       "      <td>-0.422050</td>\n",
       "      <td>1</td>\n",
       "      <td>-0.296527</td>\n",
       "    </tr>\n",
       "  </tbody>\n",
       "</table>\n",
       "</div>"
      ],
      "text/plain": [
       "   Symptoms_1  Symptoms_2  Symptoms_3  Fever since   Headche   Covid_yes_no  \\\n",
       "0           0           1           1     -1.444698 -1.323534             0   \n",
       "1           0           1           1      0.649254  0.479434             1   \n",
       "2           0           1           1     -0.048730  0.479434             1   \n",
       "3           0           1           1     -0.746714 -1.323534             0   \n",
       "4           0           1           1     -0.048730 -0.422050             1   \n",
       "\n",
       "   Duration  \n",
       "0 -1.950058  \n",
       "1  0.805828  \n",
       "2  0.254651  \n",
       "3 -1.398881  \n",
       "4 -0.296527  "
      ]
     },
     "execution_count": 21,
     "metadata": {},
     "output_type": "execute_result"
    }
   ],
   "source": [
    "train.head()"
   ]
  },
  {
   "cell_type": "code",
   "execution_count": 22,
   "metadata": {},
   "outputs": [
    {
     "data": {
      "text/html": [
       "<div>\n",
       "<style scoped>\n",
       "    .dataframe tbody tr th:only-of-type {\n",
       "        vertical-align: middle;\n",
       "    }\n",
       "\n",
       "    .dataframe tbody tr th {\n",
       "        vertical-align: top;\n",
       "    }\n",
       "\n",
       "    .dataframe thead th {\n",
       "        text-align: right;\n",
       "    }\n",
       "</style>\n",
       "<table border=\"1\" class=\"dataframe\">\n",
       "  <thead>\n",
       "    <tr style=\"text-align: right;\">\n",
       "      <th></th>\n",
       "      <th>Symptoms_1</th>\n",
       "      <th>Symptoms_2</th>\n",
       "      <th>Symptoms_3</th>\n",
       "      <th>Fever since</th>\n",
       "      <th>Headche</th>\n",
       "      <th>Covid_yes_no</th>\n",
       "      <th>Duration</th>\n",
       "    </tr>\n",
       "  </thead>\n",
       "  <tbody>\n",
       "    <tr>\n",
       "      <th>0</th>\n",
       "      <td>1</td>\n",
       "      <td>0</td>\n",
       "      <td>0</td>\n",
       "      <td>0.704145</td>\n",
       "      <td>-1.148565</td>\n",
       "      <td>0</td>\n",
       "      <td>-0.152354</td>\n",
       "    </tr>\n",
       "    <tr>\n",
       "      <th>1</th>\n",
       "      <td>1</td>\n",
       "      <td>0</td>\n",
       "      <td>0</td>\n",
       "      <td>1.395488</td>\n",
       "      <td>-1.148565</td>\n",
       "      <td>0</td>\n",
       "      <td>0.435297</td>\n",
       "    </tr>\n",
       "    <tr>\n",
       "      <th>2</th>\n",
       "      <td>1</td>\n",
       "      <td>0</td>\n",
       "      <td>0</td>\n",
       "      <td>-1.369882</td>\n",
       "      <td>-0.249688</td>\n",
       "      <td>1</td>\n",
       "      <td>-1.327656</td>\n",
       "    </tr>\n",
       "    <tr>\n",
       "      <th>3</th>\n",
       "      <td>0</td>\n",
       "      <td>1</td>\n",
       "      <td>1</td>\n",
       "      <td>-0.678540</td>\n",
       "      <td>-0.249688</td>\n",
       "      <td>0</td>\n",
       "      <td>-0.740005</td>\n",
       "    </tr>\n",
       "    <tr>\n",
       "      <th>4</th>\n",
       "      <td>1</td>\n",
       "      <td>0</td>\n",
       "      <td>0</td>\n",
       "      <td>-0.678540</td>\n",
       "      <td>1.548066</td>\n",
       "      <td>1</td>\n",
       "      <td>0.435297</td>\n",
       "    </tr>\n",
       "  </tbody>\n",
       "</table>\n",
       "</div>"
      ],
      "text/plain": [
       "   Symptoms_1  Symptoms_2  Symptoms_3  Fever since   Headche   Covid_yes_no  \\\n",
       "0           1           0           0      0.704145 -1.148565             0   \n",
       "1           1           0           0      1.395488 -1.148565             0   \n",
       "2           1           0           0     -1.369882 -0.249688             1   \n",
       "3           0           1           1     -0.678540 -0.249688             0   \n",
       "4           1           0           0     -0.678540  1.548066             1   \n",
       "\n",
       "   Duration  \n",
       "0 -0.152354  \n",
       "1  0.435297  \n",
       "2 -1.327656  \n",
       "3 -0.740005  \n",
       "4  0.435297  "
      ]
     },
     "execution_count": 22,
     "metadata": {},
     "output_type": "execute_result"
    }
   ],
   "source": [
    "test.head()"
   ]
  },
  {
   "cell_type": "code",
   "execution_count": 23,
   "metadata": {},
   "outputs": [
    {
     "data": {
      "text/html": [
       "<div>\n",
       "<style scoped>\n",
       "    .dataframe tbody tr th:only-of-type {\n",
       "        vertical-align: middle;\n",
       "    }\n",
       "\n",
       "    .dataframe tbody tr th {\n",
       "        vertical-align: top;\n",
       "    }\n",
       "\n",
       "    .dataframe thead th {\n",
       "        text-align: right;\n",
       "    }\n",
       "</style>\n",
       "<table border=\"1\" class=\"dataframe\">\n",
       "  <thead>\n",
       "    <tr style=\"text-align: right;\">\n",
       "      <th></th>\n",
       "      <th>dtypes</th>\n",
       "      <th>null_cnt</th>\n",
       "      <th>cnt</th>\n",
       "      <th>nunique</th>\n",
       "      <th>count</th>\n",
       "      <th>mean</th>\n",
       "      <th>std</th>\n",
       "      <th>min</th>\n",
       "      <th>25%</th>\n",
       "      <th>50%</th>\n",
       "      <th>75%</th>\n",
       "      <th>max</th>\n",
       "    </tr>\n",
       "  </thead>\n",
       "  <tbody>\n",
       "    <tr>\n",
       "      <th>Symptoms_1</th>\n",
       "      <td>int32</td>\n",
       "      <td>0</td>\n",
       "      <td>487</td>\n",
       "      <td>2</td>\n",
       "      <td>487.0</td>\n",
       "      <td>6.981520e-01</td>\n",
       "      <td>0.459532</td>\n",
       "      <td>0.000000</td>\n",
       "      <td>0.000000</td>\n",
       "      <td>1.000000</td>\n",
       "      <td>1.000000</td>\n",
       "      <td>1.000000</td>\n",
       "    </tr>\n",
       "    <tr>\n",
       "      <th>Symptoms_2</th>\n",
       "      <td>int32</td>\n",
       "      <td>0</td>\n",
       "      <td>487</td>\n",
       "      <td>2</td>\n",
       "      <td>487.0</td>\n",
       "      <td>3.018480e-01</td>\n",
       "      <td>0.459532</td>\n",
       "      <td>0.000000</td>\n",
       "      <td>0.000000</td>\n",
       "      <td>0.000000</td>\n",
       "      <td>1.000000</td>\n",
       "      <td>1.000000</td>\n",
       "    </tr>\n",
       "    <tr>\n",
       "      <th>Symptoms_3</th>\n",
       "      <td>int32</td>\n",
       "      <td>0</td>\n",
       "      <td>487</td>\n",
       "      <td>2</td>\n",
       "      <td>487.0</td>\n",
       "      <td>3.018480e-01</td>\n",
       "      <td>0.459532</td>\n",
       "      <td>0.000000</td>\n",
       "      <td>0.000000</td>\n",
       "      <td>0.000000</td>\n",
       "      <td>1.000000</td>\n",
       "      <td>1.000000</td>\n",
       "    </tr>\n",
       "    <tr>\n",
       "      <th>Fever since</th>\n",
       "      <td>float64</td>\n",
       "      <td>0</td>\n",
       "      <td>487</td>\n",
       "      <td>5</td>\n",
       "      <td>487.0</td>\n",
       "      <td>2.680949e-16</td>\n",
       "      <td>1.001028</td>\n",
       "      <td>-1.444698</td>\n",
       "      <td>-0.746714</td>\n",
       "      <td>-0.048730</td>\n",
       "      <td>0.649254</td>\n",
       "      <td>1.347239</td>\n",
       "    </tr>\n",
       "    <tr>\n",
       "      <th>Headche</th>\n",
       "      <td>float64</td>\n",
       "      <td>0</td>\n",
       "      <td>487</td>\n",
       "      <td>4</td>\n",
       "      <td>487.0</td>\n",
       "      <td>-7.112722e-17</td>\n",
       "      <td>1.001028</td>\n",
       "      <td>-1.323534</td>\n",
       "      <td>-0.872792</td>\n",
       "      <td>-0.422050</td>\n",
       "      <td>0.479434</td>\n",
       "      <td>1.380918</td>\n",
       "    </tr>\n",
       "    <tr>\n",
       "      <th>Covid_yes_no</th>\n",
       "      <td>int64</td>\n",
       "      <td>0</td>\n",
       "      <td>487</td>\n",
       "      <td>2</td>\n",
       "      <td>487.0</td>\n",
       "      <td>4.558522e-01</td>\n",
       "      <td>0.498559</td>\n",
       "      <td>0.000000</td>\n",
       "      <td>0.000000</td>\n",
       "      <td>0.000000</td>\n",
       "      <td>1.000000</td>\n",
       "      <td>1.000000</td>\n",
       "    </tr>\n",
       "    <tr>\n",
       "      <th>Duration</th>\n",
       "      <td>float64</td>\n",
       "      <td>0</td>\n",
       "      <td>487</td>\n",
       "      <td>8</td>\n",
       "      <td>487.0</td>\n",
       "      <td>-5.471325e-17</td>\n",
       "      <td>1.001028</td>\n",
       "      <td>-1.950058</td>\n",
       "      <td>-0.847704</td>\n",
       "      <td>0.254651</td>\n",
       "      <td>0.805828</td>\n",
       "      <td>1.908183</td>\n",
       "    </tr>\n",
       "  </tbody>\n",
       "</table>\n",
       "</div>"
      ],
      "text/plain": [
       "               dtypes  null_cnt  cnt  nunique  count          mean       std  \\\n",
       "Symptoms_1      int32         0  487        2  487.0  6.981520e-01  0.459532   \n",
       "Symptoms_2      int32         0  487        2  487.0  3.018480e-01  0.459532   \n",
       "Symptoms_3      int32         0  487        2  487.0  3.018480e-01  0.459532   \n",
       "Fever since   float64         0  487        5  487.0  2.680949e-16  1.001028   \n",
       "Headche       float64         0  487        4  487.0 -7.112722e-17  1.001028   \n",
       "Covid_yes_no    int64         0  487        2  487.0  4.558522e-01  0.498559   \n",
       "Duration      float64         0  487        8  487.0 -5.471325e-17  1.001028   \n",
       "\n",
       "                   min       25%       50%       75%       max  \n",
       "Symptoms_1    0.000000  0.000000  1.000000  1.000000  1.000000  \n",
       "Symptoms_2    0.000000  0.000000  0.000000  1.000000  1.000000  \n",
       "Symptoms_3    0.000000  0.000000  0.000000  1.000000  1.000000  \n",
       "Fever since  -1.444698 -0.746714 -0.048730  0.649254  1.347239  \n",
       "Headche      -1.323534 -0.872792 -0.422050  0.479434  1.380918  \n",
       "Covid_yes_no  0.000000  0.000000  0.000000  1.000000  1.000000  \n",
       "Duration     -1.950058 -0.847704  0.254651  0.805828  1.908183  "
      ]
     },
     "execution_count": 23,
     "metadata": {},
     "output_type": "execute_result"
    }
   ],
   "source": [
    "tr_desc = pd.DataFrame(index = list(train))\n",
    "tr_desc['dtypes'] = train.dtypes\n",
    "tr_desc['null_cnt'] = train.isnull().sum()\n",
    "tr_desc['cnt'] = train.shape[0]\n",
    "tr_desc['nunique'] = train.nunique()\n",
    "tr_desc = pd.concat([tr_desc,train.describe().T],axis=1)\n",
    "tr_desc"
   ]
  },
  {
   "cell_type": "code",
   "execution_count": 24,
   "metadata": {},
   "outputs": [
    {
     "data": {
      "text/html": [
       "<div>\n",
       "<style scoped>\n",
       "    .dataframe tbody tr th:only-of-type {\n",
       "        vertical-align: middle;\n",
       "    }\n",
       "\n",
       "    .dataframe tbody tr th {\n",
       "        vertical-align: top;\n",
       "    }\n",
       "\n",
       "    .dataframe thead th {\n",
       "        text-align: right;\n",
       "    }\n",
       "</style>\n",
       "<table border=\"1\" class=\"dataframe\">\n",
       "  <thead>\n",
       "    <tr style=\"text-align: right;\">\n",
       "      <th></th>\n",
       "      <th>dtypes</th>\n",
       "      <th>null_cnt</th>\n",
       "      <th>cnt</th>\n",
       "      <th>nunique</th>\n",
       "      <th>count</th>\n",
       "      <th>mean</th>\n",
       "      <th>std</th>\n",
       "      <th>min</th>\n",
       "      <th>25%</th>\n",
       "      <th>50%</th>\n",
       "      <th>75%</th>\n",
       "      <th>max</th>\n",
       "    </tr>\n",
       "  </thead>\n",
       "  <tbody>\n",
       "    <tr>\n",
       "      <th>Symptoms_1</th>\n",
       "      <td>int32</td>\n",
       "      <td>0</td>\n",
       "      <td>487</td>\n",
       "      <td>2</td>\n",
       "      <td>487.0</td>\n",
       "      <td>6.981520e-01</td>\n",
       "      <td>0.459532</td>\n",
       "      <td>0.000000</td>\n",
       "      <td>0.000000</td>\n",
       "      <td>1.000000</td>\n",
       "      <td>1.000000</td>\n",
       "      <td>1.000000</td>\n",
       "    </tr>\n",
       "    <tr>\n",
       "      <th>Symptoms_2</th>\n",
       "      <td>int32</td>\n",
       "      <td>0</td>\n",
       "      <td>487</td>\n",
       "      <td>2</td>\n",
       "      <td>487.0</td>\n",
       "      <td>3.018480e-01</td>\n",
       "      <td>0.459532</td>\n",
       "      <td>0.000000</td>\n",
       "      <td>0.000000</td>\n",
       "      <td>0.000000</td>\n",
       "      <td>1.000000</td>\n",
       "      <td>1.000000</td>\n",
       "    </tr>\n",
       "    <tr>\n",
       "      <th>Symptoms_3</th>\n",
       "      <td>int32</td>\n",
       "      <td>0</td>\n",
       "      <td>487</td>\n",
       "      <td>2</td>\n",
       "      <td>487.0</td>\n",
       "      <td>3.018480e-01</td>\n",
       "      <td>0.459532</td>\n",
       "      <td>0.000000</td>\n",
       "      <td>0.000000</td>\n",
       "      <td>0.000000</td>\n",
       "      <td>1.000000</td>\n",
       "      <td>1.000000</td>\n",
       "    </tr>\n",
       "    <tr>\n",
       "      <th>Fever since</th>\n",
       "      <td>float64</td>\n",
       "      <td>0</td>\n",
       "      <td>487</td>\n",
       "      <td>5</td>\n",
       "      <td>487.0</td>\n",
       "      <td>2.680949e-16</td>\n",
       "      <td>1.001028</td>\n",
       "      <td>-1.444698</td>\n",
       "      <td>-0.746714</td>\n",
       "      <td>-0.048730</td>\n",
       "      <td>0.649254</td>\n",
       "      <td>1.347239</td>\n",
       "    </tr>\n",
       "    <tr>\n",
       "      <th>Headche</th>\n",
       "      <td>float64</td>\n",
       "      <td>0</td>\n",
       "      <td>487</td>\n",
       "      <td>4</td>\n",
       "      <td>487.0</td>\n",
       "      <td>-7.112722e-17</td>\n",
       "      <td>1.001028</td>\n",
       "      <td>-1.323534</td>\n",
       "      <td>-0.872792</td>\n",
       "      <td>-0.422050</td>\n",
       "      <td>0.479434</td>\n",
       "      <td>1.380918</td>\n",
       "    </tr>\n",
       "    <tr>\n",
       "      <th>Covid_yes_no</th>\n",
       "      <td>int64</td>\n",
       "      <td>0</td>\n",
       "      <td>487</td>\n",
       "      <td>2</td>\n",
       "      <td>487.0</td>\n",
       "      <td>4.558522e-01</td>\n",
       "      <td>0.498559</td>\n",
       "      <td>0.000000</td>\n",
       "      <td>0.000000</td>\n",
       "      <td>0.000000</td>\n",
       "      <td>1.000000</td>\n",
       "      <td>1.000000</td>\n",
       "    </tr>\n",
       "    <tr>\n",
       "      <th>Duration</th>\n",
       "      <td>float64</td>\n",
       "      <td>0</td>\n",
       "      <td>487</td>\n",
       "      <td>8</td>\n",
       "      <td>487.0</td>\n",
       "      <td>-5.471325e-17</td>\n",
       "      <td>1.001028</td>\n",
       "      <td>-1.950058</td>\n",
       "      <td>-0.847704</td>\n",
       "      <td>0.254651</td>\n",
       "      <td>0.805828</td>\n",
       "      <td>1.908183</td>\n",
       "    </tr>\n",
       "  </tbody>\n",
       "</table>\n",
       "</div>"
      ],
      "text/plain": [
       "               dtypes  null_cnt  cnt  nunique  count          mean       std  \\\n",
       "Symptoms_1      int32         0  487        2  487.0  6.981520e-01  0.459532   \n",
       "Symptoms_2      int32         0  487        2  487.0  3.018480e-01  0.459532   \n",
       "Symptoms_3      int32         0  487        2  487.0  3.018480e-01  0.459532   \n",
       "Fever since   float64         0  487        5  487.0  2.680949e-16  1.001028   \n",
       "Headche       float64         0  487        4  487.0 -7.112722e-17  1.001028   \n",
       "Covid_yes_no    int64         0  487        2  487.0  4.558522e-01  0.498559   \n",
       "Duration      float64         0  487        8  487.0 -5.471325e-17  1.001028   \n",
       "\n",
       "                   min       25%       50%       75%       max  \n",
       "Symptoms_1    0.000000  0.000000  1.000000  1.000000  1.000000  \n",
       "Symptoms_2    0.000000  0.000000  0.000000  1.000000  1.000000  \n",
       "Symptoms_3    0.000000  0.000000  0.000000  1.000000  1.000000  \n",
       "Fever since  -1.444698 -0.746714 -0.048730  0.649254  1.347239  \n",
       "Headche      -1.323534 -0.872792 -0.422050  0.479434  1.380918  \n",
       "Covid_yes_no  0.000000  0.000000  0.000000  1.000000  1.000000  \n",
       "Duration     -1.950058 -0.847704  0.254651  0.805828  1.908183  "
      ]
     },
     "execution_count": 24,
     "metadata": {},
     "output_type": "execute_result"
    }
   ],
   "source": [
    "tt_desc = pd.DataFrame(index = list(train))\n",
    "tt_desc['dtypes'] = train.dtypes\n",
    "tt_desc['null_cnt'] = train.isnull().sum()\n",
    "tt_desc['cnt'] = train.shape[0]\n",
    "tt_desc['nunique'] = train.nunique()\n",
    "tt_desc = pd.concat([tt_desc,train.describe().T],axis=1)\n",
    "tt_desc"
   ]
  },
  {
   "cell_type": "code",
   "execution_count": 25,
   "metadata": {},
   "outputs": [],
   "source": [
    "# part B"
   ]
  },
  {
   "attachments": {
    "image.png": {
     "image/png": "[encoded data removed]"
    }
   },
   "cell_type": "markdown",
   "metadata": {},
   "source": [
    "![image.png](attachment:image.png)"
   ]
  },
  {
   "cell_type": "markdown",
   "metadata": {},
   "source": [
    "will be classified as spam"
   ]
  },
  {
   "cell_type": "code",
   "execution_count": null,
   "metadata": {},
   "outputs": [],
   "source": []
  }
 ],
 "metadata": {
  "kernelspec": {
   "display_name": "Python 3",
   "language": "python",
   "name": "python3"
  },
  "language_info": {
   "codemirror_mode": {
    "name": "ipython",
    "version": 3
   },
   "file_extension": ".py",
   "mimetype": "text/x-python",
   "name": "python",
   "nbconvert_exporter": "python",
   "pygments_lexer": "ipython3",
   "version": "3.9.13"
  }
 },
 "nbformat": 4,
 "nbformat_minor": 2
}
